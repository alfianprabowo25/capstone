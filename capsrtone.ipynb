{
  "nbformat": 4,
  "nbformat_minor": 0,
  "metadata": {
    "colab": {
      "provenance": [],
      "authorship_tag": "ABX9TyOssKRjyB0gflcjFOr8kBck",
      "include_colab_link": true
    },
    "kernelspec": {
      "name": "python3",
      "display_name": "Python 3"
    },
    "language_info": {
      "name": "python"
    }
  },
  "cells": [
    {
      "cell_type": "markdown",
      "metadata": {
        "id": "view-in-github",
        "colab_type": "text"
      },
      "source": [
        "<a href=\"https://colab.research.google.com/github/alfianprabowo25/capstone/blob/main/capsrtone.ipynb\" target=\"_parent\"><img src=\"https://colab.research.google.com/assets/colab-badge.svg\" alt=\"Open In Colab\"/></a>"
      ]
    },
    {
      "cell_type": "code",
      "execution_count": 77,
      "metadata": {
        "id": "nAhE738qvwhn",
        "colab": {
          "base_uri": "https://localhost:8080/",
          "height": 384
        },
        "outputId": "ae68d123-83a6-4839-c70b-b28d9d9a9633"
      },
      "outputs": [
        {
          "output_type": "error",
          "ename": "ModuleNotFoundError",
          "evalue": "No module named 'streamlit'",
          "traceback": [
            "\u001b[0;31m---------------------------------------------------------------------------\u001b[0m",
            "\u001b[0;31mModuleNotFoundError\u001b[0m                       Traceback (most recent call last)",
            "\u001b[0;32m<ipython-input-77-2688958863>\u001b[0m in \u001b[0;36m<cell line: 0>\u001b[0;34m()\u001b[0m\n\u001b[1;32m      3\u001b[0m \u001b[0;32mimport\u001b[0m \u001b[0mmatplotlib\u001b[0m\u001b[0;34m.\u001b[0m\u001b[0mpyplot\u001b[0m \u001b[0;32mas\u001b[0m \u001b[0mplt\u001b[0m\u001b[0;34m\u001b[0m\u001b[0;34m\u001b[0m\u001b[0m\n\u001b[1;32m      4\u001b[0m \u001b[0;32mimport\u001b[0m \u001b[0mseaborn\u001b[0m \u001b[0;32mas\u001b[0m \u001b[0msns\u001b[0m\u001b[0;34m\u001b[0m\u001b[0;34m\u001b[0m\u001b[0m\n\u001b[0;32m----> 5\u001b[0;31m \u001b[0;32mimport\u001b[0m \u001b[0mstreamlit\u001b[0m \u001b[0;32mas\u001b[0m \u001b[0mst\u001b[0m\u001b[0;34m\u001b[0m\u001b[0;34m\u001b[0m\u001b[0m\n\u001b[0m\u001b[1;32m      6\u001b[0m \u001b[0;32mimport\u001b[0m \u001b[0mjoblib\u001b[0m\u001b[0;34m\u001b[0m\u001b[0;34m\u001b[0m\u001b[0m\n\u001b[1;32m      7\u001b[0m \u001b[0;32mfrom\u001b[0m \u001b[0msklearn\u001b[0m\u001b[0;34m.\u001b[0m\u001b[0mpreprocessing\u001b[0m \u001b[0;32mimport\u001b[0m \u001b[0mLabelEncoder\u001b[0m\u001b[0;34m,\u001b[0m \u001b[0mStandardScaler\u001b[0m\u001b[0;34m\u001b[0m\u001b[0;34m\u001b[0m\u001b[0m\n",
            "\u001b[0;31mModuleNotFoundError\u001b[0m: No module named 'streamlit'",
            "",
            "\u001b[0;31m---------------------------------------------------------------------------\u001b[0;32m\nNOTE: If your import is failing due to a missing package, you can\nmanually install dependencies using either !pip or !apt.\n\nTo view examples of installing some common dependencies, click the\n\"Open Examples\" button below.\n\u001b[0;31m---------------------------------------------------------------------------\u001b[0m\n"
          ],
          "errorDetails": {
            "actions": [
              {
                "action": "open_url",
                "actionText": "Open Examples",
                "url": "/notebooks/snippets/importing_libraries.ipynb"
              }
            ]
          }
        }
      ],
      "source": [
        "import pandas as pd\n",
        "import numpy as np\n",
        "import matplotlib.pyplot as plt\n",
        "import seaborn as sns\n",
        "import streamlit as st\n",
        "import joblib\n",
        "from sklearn.preprocessing import LabelEncoder, StandardScaler\n",
        "from sklearn.utils import resample\n",
        "from sklearn.model_selection import train_test_split\n",
        "from sklearn.metrics import confusion_matrix, accuracy_score, precision_score, recall_score, f1_score\n",
        "from sklearn.ensemble import RandomForestClassifier\n",
        "from sklearn.svm import SVC\n",
        "from sklearn.neighbors import KNeighborsClassifier\n",
        "from sklearn.model_selection import GridSearchCV, RandomizedSearchCV"
      ]
    },
    {
      "cell_type": "code",
      "source": [
        "df = pd.read_csv('./ObesityDataSet.csv')"
      ],
      "metadata": {
        "id": "6ipqWrKNv9WO"
      },
      "execution_count": null,
      "outputs": []
    },
    {
      "cell_type": "code",
      "source": [
        "print(df.head())"
      ],
      "metadata": {
        "id": "L-fky4JOwCw5"
      },
      "execution_count": null,
      "outputs": []
    },
    {
      "cell_type": "code",
      "source": [
        "print(df.info())"
      ],
      "metadata": {
        "id": "NvkxNBd5wGqR"
      },
      "execution_count": null,
      "outputs": []
    },
    {
      "cell_type": "code",
      "source": [
        "missing_values = df.isnull().sum()\n",
        "print(\"Missing values per column:\")\n",
        "print(missing_values)"
      ],
      "metadata": {
        "id": "IpVM035vwKp0"
      },
      "execution_count": null,
      "outputs": []
    },
    {
      "cell_type": "code",
      "source": [
        "unique_values = df.nunique()\n",
        "print(\"Unique values per column:\")\n",
        "print(unique_values)"
      ],
      "metadata": {
        "id": "COt8ez00wOuj"
      },
      "execution_count": null,
      "outputs": []
    },
    {
      "cell_type": "code",
      "source": [
        "duplicate_rows = df.duplicated().sum()\n",
        "print(f\"Duplicate rows: {duplicate_rows}\")"
      ],
      "metadata": {
        "id": "wGzp_zBqwRsg"
      },
      "execution_count": null,
      "outputs": []
    },
    {
      "cell_type": "code",
      "source": [],
      "metadata": {
        "id": "mctA-Tdyw1PM"
      },
      "execution_count": null,
      "outputs": []
    },
    {
      "cell_type": "code",
      "source": [
        "print(df['NObeyesdad'].value_counts())"
      ],
      "metadata": {
        "id": "34AbKfyowUWg"
      },
      "execution_count": null,
      "outputs": []
    },
    {
      "cell_type": "code",
      "source": [
        "df['Height'] = pd.to_numeric(df['Height'], errors='coerce')\n",
        "df['Weight'] = pd.to_numeric(df['Weight'], errors='coerce')\n"
      ],
      "metadata": {
        "id": "Bnc1Sj5WxlSv"
      },
      "execution_count": null,
      "outputs": []
    },
    {
      "cell_type": "code",
      "source": [
        "print(\"\\nVisualizing the distribution of Height and Weight:\")\n",
        "df_numeric = df[['Height', 'Weight']]\n",
        "df_numeric.hist(bins=20, figsize=(15,10))\n",
        "plt.suptitle('Distribution of Height and Weight')\n",
        "plt.show()"
      ],
      "metadata": {
        "id": "YPyTwBtSxo0N"
      },
      "execution_count": null,
      "outputs": []
    },
    {
      "cell_type": "code",
      "source": [
        "plt.figure(figsize=(12,8))\n",
        "sns.boxplot(data=df_numeric)\n",
        "plt.title('Boxplot of Numerical Features')\n",
        "plt.show()"
      ],
      "metadata": {
        "id": "PVovFRhMwaOj"
      },
      "execution_count": null,
      "outputs": []
    },
    {
      "cell_type": "code",
      "source": [
        "correlation_matrix = df_numeric.corr()\n",
        "plt.figure(figsize=(12,8))\n",
        "sns.heatmap(correlation_matrix, annot=True, cmap='coolwarm', fmt='.2f')\n",
        "plt.title('Correlation Matrix of Numerical Features')\n",
        "plt.show()"
      ],
      "metadata": {
        "id": "sUZUjEALxtDT"
      },
      "execution_count": null,
      "outputs": []
    },
    {
      "cell_type": "code",
      "source": [
        "df['Age'] = pd.to_numeric(df['Age'], errors='coerce')"
      ],
      "metadata": {
        "id": "OevrWi8KyEXv"
      },
      "execution_count": null,
      "outputs": []
    },
    {
      "cell_type": "code",
      "source": [
        "# Mengisi missing values dengan median\n",
        "df['Height'] = df['Height'].fillna(df['Height'].median())\n",
        "df['Weight'] = df['Weight'].fillna(df['Weight'].median())\n",
        "df['Age'] = df['Age'].fillna(df['Age'].median())\n"
      ],
      "metadata": {
        "id": "zf4RVujQyTCB"
      },
      "execution_count": null,
      "outputs": []
    },
    {
      "cell_type": "code",
      "source": [
        "# Mengisi missing values pada kolom kategorikal dengan modus tanpa menggunakan inplace=True\n",
        "categorical_cols = ['Gender', 'CALC', 'FAVC', 'FCVC', 'NCP', 'SCC', 'SMOKE', 'CH2O', 'family_history_with_overweight', 'FAF', 'TUE', 'CAEC', 'MTRANS']\n",
        "for col in categorical_cols:\n",
        "    df[col] = df[col].fillna(df[col].mode()[0])  # Mengisi missing values dengan modus kolom\n"
      ],
      "metadata": {
        "id": "TIZoyDSQyl6B"
      },
      "execution_count": 78,
      "outputs": []
    },
    {
      "cell_type": "code",
      "source": [
        "df.drop_duplicates(inplace=True)"
      ],
      "metadata": {
        "id": "ePb0cOKaytxX"
      },
      "execution_count": 79,
      "outputs": []
    },
    {
      "cell_type": "code",
      "source": [
        "# 3. Tangani Outliers menggunakan IQR (Interquartile Range)\n",
        "# Menghitung IQR untuk kolom numerik\n",
        "Q1 = df[['Height', 'Weight']].quantile(0.25)\n",
        "Q3 = df[['Height', 'Weight']].quantile(0.75)\n",
        "IQR = Q3 - Q1"
      ],
      "metadata": {
        "id": "pXv5kBdly1aU"
      },
      "execution_count": 80,
      "outputs": []
    },
    {
      "cell_type": "code",
      "source": [
        "df = df[~((df[['Height', 'Weight']] < (Q1 - 1.5 * IQR)) | (df[['Height', 'Weight']] > (Q3 + 1.5 * IQR))).any(axis=1)]\n"
      ],
      "metadata": {
        "id": "-Yk_-oLny4QY"
      },
      "execution_count": 81,
      "outputs": []
    },
    {
      "cell_type": "code",
      "source": [
        "# 4. Ubah Data Kategori menjadi Numerik (Label Encoding untuk kolom kategorikal)\n",
        "label_encoders = {}\n",
        "for col in categorical_cols:\n",
        "    le = LabelEncoder()\n",
        "    df[col] = le.fit_transform(df[col])\n",
        "    label_encoders[col] = le"
      ],
      "metadata": {
        "id": "mKTHP0oRy8M6"
      },
      "execution_count": 82,
      "outputs": []
    },
    {
      "cell_type": "code",
      "source": [
        "\n",
        "# Tentukan fitur numerik dan target\n",
        "features = df.drop('NObeyesdad', axis=1)  # Menghapus kolom target dari fitur\n",
        "target = df['NObeyesdad']"
      ],
      "metadata": {
        "id": "LXpyrSz3zAll"
      },
      "execution_count": 83,
      "outputs": []
    },
    {
      "cell_type": "code",
      "source": [
        "# Memeriksa distribusi kelas target\n",
        "class_counts = target.value_counts()\n",
        "print(f\"Class distribution before balancing: {class_counts}\")"
      ],
      "metadata": {
        "colab": {
          "base_uri": "https://localhost:8080/"
        },
        "id": "7NKNVuuTzFTF",
        "outputId": "e385d3de-583f-4402-be6c-d87808ae7fc4"
      },
      "execution_count": 84,
      "outputs": [
        {
          "output_type": "stream",
          "name": "stdout",
          "text": [
            "Class distribution before balancing: NObeyesdad\n",
            "2    349\n",
            "4    319\n",
            "3    295\n",
            "6    286\n",
            "1    282\n",
            "5    270\n",
            "0    265\n",
            "Name: count, dtype: int64\n"
          ]
        }
      ]
    },
    {
      "cell_type": "code",
      "source": [
        "# Oversample kelas minoritas menggunakan upsampling\n",
        "df_majority = df[df['NObeyesdad'] == 0]\n",
        "df_minority = df[df['NObeyesdad'] == 1]"
      ],
      "metadata": {
        "id": "OUG16MUkzI3W"
      },
      "execution_count": 85,
      "outputs": []
    },
    {
      "cell_type": "code",
      "source": [
        "# Memeriksa distribusi kelas pada kolom 'NObeyesdad'\n",
        "class_counts = target.value_counts()\n",
        "print(f\"Class distribution before balancing: {class_counts}\")\n",
        "\n"
      ],
      "metadata": {
        "colab": {
          "base_uri": "https://localhost:8080/"
        },
        "id": "SH8dfHe8zOiq",
        "outputId": "30bb7717-af50-42b3-f085-f5f4f3484063"
      },
      "execution_count": 86,
      "outputs": [
        {
          "output_type": "stream",
          "name": "stdout",
          "text": [
            "Class distribution before balancing: NObeyesdad\n",
            "2    349\n",
            "4    319\n",
            "3    295\n",
            "6    286\n",
            "1    282\n",
            "5    270\n",
            "0    265\n",
            "Name: count, dtype: int64\n"
          ]
        }
      ]
    },
    {
      "cell_type": "code",
      "source": [
        "# Memeriksa distribusi kelas pada kolom 'NObeyesdad'\n",
        "class_counts = df['NObeyesdad'].value_counts()\n",
        "print(f\"Class distribution before balancing: {class_counts}\")\n",
        "\n",
        "# Jika jumlah kelas mayoritas atau minoritas ternyata 0, tampilkan pesan\n",
        "if class_counts.min() == 0:\n",
        "    print(\"Error: One of the classes is missing. Please check the distribution of 'NObeyesdad'.\")\n",
        "else:\n",
        "    # Memisahkan kelas mayoritas dan minoritas berdasarkan nilai pada 'NObeyesdad'\n",
        "    df_majority = df[df['NObeyesdad'] == class_counts.idxmax()]  # Kelas mayoritas (yang paling banyak)\n",
        "    df_minority = df[df['NObeyesdad'] == class_counts.idxmin()]  # Kelas minoritas (yang paling sedikit)\n",
        "\n",
        "    # Menyeimbangkan dataset menggunakan oversampling untuk kelas minoritas\n",
        "    df_minority_upsampled = resample(df_minority,\n",
        "                                     replace=True,  # Sampling dengan penggantian\n",
        "                                     n_samples=len(df_majority),  # Menyamakan jumlah dengan kelas mayoritas\n",
        "                                     random_state=42)\n",
        "\n",
        "    # Menggabungkan kembali data mayoritas dan minoritas yang sudah di-oversample\n",
        "    df_balanced = pd.concat([df_majority, df_minority_upsampled])\n",
        "\n",
        "    # Memisahkan fitur dan target dari data yang sudah di-balance\n",
        "    features_balanced = df_balanced.drop('NObeyesdad', axis=1)\n",
        "    target_balanced = df_balanced['NObeyesdad']\n",
        "\n",
        "    # Memeriksa distribusi kelas setelah balancing\n",
        "    balanced_class_counts = target_balanced.value_counts()\n",
        "    print(f\"Class distribution after balancing: {balanced_class_counts}\")\n"
      ],
      "metadata": {
        "colab": {
          "base_uri": "https://localhost:8080/"
        },
        "id": "MFMrOvKBzp7v",
        "outputId": "b71a7e22-19db-401c-978f-4144674c5161"
      },
      "execution_count": 87,
      "outputs": [
        {
          "output_type": "stream",
          "name": "stdout",
          "text": [
            "Class distribution before balancing: NObeyesdad\n",
            "2    349\n",
            "4    319\n",
            "3    295\n",
            "6    286\n",
            "1    282\n",
            "5    270\n",
            "0    265\n",
            "Name: count, dtype: int64\n",
            "Class distribution after balancing: NObeyesdad\n",
            "2    349\n",
            "0    349\n",
            "Name: count, dtype: int64\n"
          ]
        }
      ]
    },
    {
      "cell_type": "code",
      "source": [
        "# Normalisasi atau Standarisasi Data\n",
        "scaler = StandardScaler()\n",
        "features_scaled = scaler.fit_transform(features_balanced)"
      ],
      "metadata": {
        "id": "u22JOcZu0CcG"
      },
      "execution_count": 88,
      "outputs": []
    },
    {
      "cell_type": "code",
      "source": [
        "print(\"\\nFirst few rows of scaled features:\")\n",
        "print(features_scaled[:5])"
      ],
      "metadata": {
        "colab": {
          "base_uri": "https://localhost:8080/"
        },
        "id": "jEm23Rnh0F4K",
        "outputId": "ade5bf42-c38a-4716-e1e7-749da62a8d23"
      },
      "execution_count": 89,
      "outputs": [
        {
          "output_type": "stream",
          "name": "stdout",
          "text": [
            "\n",
            "First few rows of scaled features:\n",
            "[[ 0.35389499  1.08484566  1.62265616  1.45310857 -0.66820636  0.31901339\n",
            "   1.35626756  0.46286955 -0.2301157  -0.02394566  1.64332299  0.60277467\n",
            "   1.08338564  1.40782705 -1.55743536  0.56756249]\n",
            " [ 2.2266376   1.08484566  1.10805899  1.19243142 -2.36423559  0.31901339\n",
            "  -0.88323725  0.46286955 -0.2301157  -0.02394566 -0.12485113 -1.63518662\n",
            "   1.08338564  0.72562718  0.53715015 -1.71796801]\n",
            " [ 0.72844351 -0.86174116 -1.67076578  0.2800614   1.02782287  0.31901339\n",
            "  -0.88323725 -1.98203796 -0.2301157  -0.02394566 -0.12485113 -1.63518662\n",
            "  -1.4437919  -1.24410486  0.53715015 -1.71796801]\n",
            " [ 3.59998219 -0.86174116 -0.02405481  0.67107712  1.02782287  0.31901339\n",
            "   1.35626756 -1.98203796 -0.2301157   8.33308868 -0.12485113  0.60277467\n",
            "  -1.4437919  -1.24410486  0.53715015 -1.71796801]\n",
            " [ 8.06613407 -0.86174116 -0.95032973  0.45384617 -0.66820636  0.31901339\n",
            "  -1.46900884 -1.98203796 -0.2301157  -0.02394566 -0.12485113  0.60277467\n",
            "  -1.4437919   1.40782705  0.53715015  0.56756249]]\n"
          ]
        }
      ]
    },
    {
      "cell_type": "code",
      "source": [
        "#  Encode Fitur Kategorikal ===\n",
        "label_encoders = {}\n",
        "for col in df.select_dtypes(include=['object']).columns:\n",
        "    le = LabelEncoder()\n",
        "    df[col] = le.fit_transform(df[col])\n",
        "    label_encoders[col] = le\n"
      ],
      "metadata": {
        "id": "0mAhS1zf6RRq"
      },
      "execution_count": 90,
      "outputs": []
    },
    {
      "cell_type": "code",
      "source": [
        "# Split Fitur dan Target ===\n",
        "X = df.drop('NObeyesdad', axis=1)\n",
        "y = df['NObeyesdad']"
      ],
      "metadata": {
        "id": "ZCl2Yk7h7hXU"
      },
      "execution_count": 91,
      "outputs": []
    },
    {
      "cell_type": "code",
      "source": [
        "# Normalisasi Data ===\n",
        "scaler = StandardScaler()\n",
        "X_scaled = scaler.fit_transform(X)"
      ],
      "metadata": {
        "id": "B3LSa0037mlJ"
      },
      "execution_count": 92,
      "outputs": []
    },
    {
      "cell_type": "code",
      "source": [
        "# Split Train-Test ===\n",
        "X_train, X_test, y_train, y_test = train_test_split(X_scaled, y, test_size=0.2, random_state=42, stratify=y)"
      ],
      "metadata": {
        "id": "IfzYvFFJ7su6"
      },
      "execution_count": 93,
      "outputs": []
    },
    {
      "cell_type": "code",
      "source": [
        "#  Inisialisasi Model ===\n",
        "models = {\n",
        "    \"Random Forest\": RandomForestClassifier(random_state=42),\n",
        "    \"SVM\": SVC(random_state=42),\n",
        "    \"KNN\": KNeighborsClassifier()\n",
        "}"
      ],
      "metadata": {
        "id": "VkURwZap70mi"
      },
      "execution_count": 94,
      "outputs": []
    },
    {
      "cell_type": "code",
      "source": [
        "#  Evaluasi Model ===\n",
        "results = {}\n",
        "for name, model in models.items():\n",
        "    model.fit(X_train, y_train)\n",
        "    y_pred = model.predict(X_test)\n",
        "\n",
        "    acc = accuracy_score(y_test, y_pred)\n",
        "    prec = precision_score(y_test, y_pred, average='weighted', zero_division=0)\n",
        "    rec = recall_score(y_test, y_pred, average='weighted')\n",
        "    f1 = f1_score(y_test, y_pred, average='weighted')\n",
        "\n",
        "    results[name] = {\n",
        "        \"Accuracy\": acc,\n",
        "        \"Precision\": prec,\n",
        "        \"Recall\": rec,\n",
        "        \"F1 Score\": f1,\n",
        "        \"Confusion Matrix\": confusion_matrix(y_test, y_pred)\n",
        "    }\n"
      ],
      "metadata": {
        "id": "-gm_FjsR75HI"
      },
      "execution_count": 95,
      "outputs": []
    },
    {
      "cell_type": "code",
      "source": [
        "# Visualisasi Perbandingan Metrik ===\n",
        "metrics_df = pd.DataFrame(results).T[['Accuracy', 'Precision', 'Recall', 'F1 Score']]\n",
        "metrics_df.plot(kind='bar', figsize=(10, 6))\n",
        "plt.title('Perbandingan Performa Model')\n",
        "plt.ylabel('Skor')\n",
        "plt.xticks(rotation=0)\n",
        "plt.ylim(0.6, 1.0)\n",
        "plt.grid(axis='y')\n",
        "plt.tight_layout()\n",
        "plt.show()"
      ],
      "metadata": {
        "colab": {
          "base_uri": "https://localhost:8080/",
          "height": 607
        },
        "id": "i9j4eruy8B_O",
        "outputId": "098e9adf-1698-44f4-9ca7-812b0eb070af"
      },
      "execution_count": 96,
      "outputs": [
        {
          "output_type": "display_data",
          "data": {
            "text/plain": [
              "<Figure size 1000x600 with 1 Axes>"
            ],
            "image/png": "[encoded data removed]"
          },
          "metadata": {}
        }
      ]
    },
    {
      "cell_type": "code",
      "source": [
        "\n",
        "#  Kesimpulan Otomatis ===\n",
        "best_model = metrics_df['F1 Score'].idxmax()\n",
        "print(f\"🔍 Model terbaik berdasarkan F1 Score adalah: **{best_model}** dengan F1 Score sebesar {metrics_df.loc[best_model, 'F1 Score']:.4f}\")\n"
      ],
      "metadata": {
        "colab": {
          "base_uri": "https://localhost:8080/"
        },
        "id": "GQiaZPla8JW5",
        "outputId": "eb5cabf4-f61e-4a9d-e53e-690958d1ad28"
      },
      "execution_count": 97,
      "outputs": [
        {
          "output_type": "stream",
          "name": "stdout",
          "text": [
            "🔍 Model terbaik berdasarkan F1 Score adalah: **Random Forest** dengan F1 Score sebesar 0.9569\n"
          ]
        }
      ]
    },
    {
      "cell_type": "code",
      "source": [
        "#  Definisikan Parameter Tuning ===\n",
        "param_grids = {\n",
        "    'Random Forest': {\n",
        "        'n_estimators': [100, 200],\n",
        "        'max_depth': [None, 10, 20],\n",
        "        'min_samples_split': [2, 5]\n",
        "    },\n",
        "    'SVM': {\n",
        "        'C': [0.1, 1, 10],\n",
        "        'kernel': ['linear', 'rbf']\n",
        "    },\n",
        "    'KNN': {\n",
        "        'n_neighbors': [3, 5, 7],\n",
        "        'weights': ['uniform', 'distance']\n",
        "    }\n",
        "}\n"
      ],
      "metadata": {
        "id": "5BlAiDBL8ysQ"
      },
      "execution_count": 98,
      "outputs": []
    },
    {
      "cell_type": "code",
      "source": [
        "#  Inisialisasi Model Awal ===\n",
        "base_models = {\n",
        "    \"Random Forest\": RandomForestClassifier(random_state=42),\n",
        "    \"SVM\": SVC(random_state=42),\n",
        "    \"KNN\": KNeighborsClassifier()\n",
        "}\n"
      ],
      "metadata": {
        "id": "lSxdmUgG83Sz"
      },
      "execution_count": 99,
      "outputs": []
    },
    {
      "cell_type": "code",
      "source": [
        "#  Hyperparameter Tuning & Evaluasi ===\n",
        "tuned_results = {}\n",
        "best_models = {}\n",
        "\n",
        "for name in base_models:\n",
        "    print(f\"Tuning {name}...\")\n",
        "    grid = GridSearchCV(base_models[name], param_grids[name], cv=3, scoring='f1_weighted', n_jobs=-1)\n",
        "    grid.fit(X_train, y_train)\n",
        "    best_model = grid.best_estimator_\n",
        "    best_models[name] = best_model\n",
        "\n",
        "    y_pred = best_model.predict(X_test)\n",
        "\n",
        "    acc = accuracy_score(y_test, y_pred)\n",
        "    prec = precision_score(y_test, y_pred, average='weighted', zero_division=0)\n",
        "    rec = recall_score(y_test, y_pred, average='weighted')\n",
        "    f1 = f1_score(y_test, y_pred, average='weighted')\n",
        "\n",
        "    tuned_results[name] = {\n",
        "        \"Accuracy\": acc,\n",
        "        \"Precision\": prec,\n",
        "        \"Recall\": rec,\n",
        "        \"F1 Score\": f1,\n",
        "        \"Confusion Matrix\": confusion_matrix(y_test, y_pred)\n",
        "    }\n",
        "\n",
        "print(\"✅ Hyperparameter tuning selesai.\")"
      ],
      "metadata": {
        "colab": {
          "base_uri": "https://localhost:8080/"
        },
        "id": "8wUVRvcV87Kv",
        "outputId": "dd27077b-b286-45ef-f63d-7a4cc7b313e9"
      },
      "execution_count": 100,
      "outputs": [
        {
          "output_type": "stream",
          "name": "stdout",
          "text": [
            "Tuning Random Forest...\n",
            "Tuning SVM...\n",
            "Tuning KNN...\n",
            "✅ Hyperparameter tuning selesai.\n"
          ]
        }
      ]
    },
    {
      "cell_type": "code",
      "source": [
        "#  Visualisasi Confusion Matrix Setelah Tuning ===\n",
        "for name, res in tuned_results.items():\n",
        "    plt.figure(figsize=(6, 4))\n",
        "    sns.heatmap(res[\"Confusion Matrix\"], annot=True, fmt='d', cmap='Greens')\n",
        "    plt.title(f'Confusion Matrix (Tuned) - {name}')\n",
        "    plt.xlabel('Predicted')\n",
        "    plt.ylabel('Actual')\n",
        "    plt.show()"
      ],
      "metadata": {
        "id": "5MyovjDY9IvX"
      },
      "execution_count": null,
      "outputs": []
    },
    {
      "cell_type": "code",
      "source": [
        "#  Visualisasi Perbandingan Kinerja Sebelum vs Sesudah Tuning ===\n",
        "before_df = pd.DataFrame(results).T[['Accuracy', 'Precision', 'Recall', 'F1 Score']].rename(columns=lambda x: f'{x} (Before)')\n",
        "after_df = pd.DataFrame(tuned_results).T[['Accuracy', 'Precision', 'Recall', 'F1 Score']].rename(columns=lambda x: f'{x} (After)')\n",
        "\n",
        "comparison_df = pd.concat([before_df, after_df], axis=1)\n",
        "comparison_df.plot(kind='bar', figsize=(12, 7))\n",
        "plt.title('Perbandingan Performa Sebelum & Sesudah Tuning')\n",
        "plt.ylabel('Skor')\n",
        "plt.xticks(rotation=0)\n",
        "plt.ylim(0.6, 1.0)\n",
        "plt.grid(axis='y')\n",
        "plt.tight_layout()\n",
        "plt.show()"
      ],
      "metadata": {
        "id": "c7YD4_g69PQ_"
      },
      "execution_count": null,
      "outputs": []
    },
    {
      "cell_type": "code",
      "source": [
        "# Kesimpulan Otomatis ===\n",
        "improvement = (after_df['F1 Score (After)'] - before_df['F1 Score (Before)']).sort_values(ascending=False)\n",
        "print(\"📈 Peningkatan F1 Score setelah tuning:\")\n",
        "print(improvement)\n",
        "\n",
        "best_tuned = after_df['F1 Score (After)'].idxmax()\n",
        "print(f\"\\n🔍 Model terbaik setelah tuning: **{best_tuned}** dengan F1 Score {after_df.loc[best_tuned, 'F1 Score (After)']:.4f}\")\n"
      ],
      "metadata": {
        "id": "sSUv0kY59VFF"
      },
      "execution_count": null,
      "outputs": []
    },
    {
      "cell_type": "code",
      "source": [
        "# Load model dan scaler\n",
        "model = joblib.load(\"best_model.pkl\")  # Model hasil training & tuning\n",
        "scaler = joblib.load(\"scaler.pkl\")     # Scaler dari training data"
      ],
      "metadata": {
        "id": "z0PmOHt89ecN"
      },
      "execution_count": null,
      "outputs": []
    }
  ]
}