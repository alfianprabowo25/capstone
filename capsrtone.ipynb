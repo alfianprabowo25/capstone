{
  "nbformat": 4,
  "nbformat_minor": 0,
  "metadata": {
    "colab": {
      "provenance": []
    },
    "kernelspec": {
      "name": "python3",
      "display_name": "Python 3"
    },
    "language_info": {
      "name": "python"
    }
  },
  "cells": [
    {
      "cell_type": "code",
      "execution_count": 20,
      "metadata": {
        "id": "nAhE738qvwhn"
      },
      "outputs": [],
      "source": [
        "import pandas as pd\n",
        "import matplotlib.pyplot as plt\n",
        "import seaborn as sns\n",
        "from sklearn.preprocessing import LabelEncoder, StandardScaler\n",
        "from sklearn.utils import resample"
      ]
    },
    {
      "cell_type": "code",
      "source": [
        "df = pd.read_csv('./ObesityDataSet.csv')"
      ],
      "metadata": {
        "id": "6ipqWrKNv9WO"
      },
      "execution_count": 2,
      "outputs": []
    },
    {
      "cell_type": "code",
      "source": [
        "print(df.head())"
      ],
      "metadata": {
        "colab": {
          "base_uri": "https://localhost:8080/"
        },
        "id": "L-fky4JOwCw5",
        "outputId": "38f8b4dc-ee6f-4a7b-ac7c-a8d9ee7f7089"
      },
      "execution_count": 3,
      "outputs": [
        {
          "output_type": "stream",
          "name": "stdout",
          "text": [
            "  Age  Gender Height Weight        CALC FAVC FCVC NCP  SCC SMOKE CH2O  \\\n",
            "0  21  Female   1.62     64          no   no    2   3   no    no    2   \n",
            "1  21  Female   1.52     56   Sometimes   no    3   3  yes   yes    3   \n",
            "2  23    Male    1.8     77  Frequently   no    2   3   no    no    2   \n",
            "3  27    Male    1.8     87  Frequently   no    3   3   no    no    2   \n",
            "4  22    Male   1.78   89.8   Sometimes   no    2   1   no    no    2   \n",
            "\n",
            "  family_history_with_overweight FAF TUE       CAEC                 MTRANS  \\\n",
            "0                            yes   0   1  Sometimes  Public_Transportation   \n",
            "1                            yes   3   0  Sometimes  Public_Transportation   \n",
            "2                            yes   2   1  Sometimes  Public_Transportation   \n",
            "3                             no   2   0  Sometimes                Walking   \n",
            "4                             no   0   0  Sometimes  Public_Transportation   \n",
            "\n",
            "            NObeyesdad  \n",
            "0        Normal_Weight  \n",
            "1        Normal_Weight  \n",
            "2        Normal_Weight  \n",
            "3   Overweight_Level_I  \n",
            "4  Overweight_Level_II  \n"
          ]
        }
      ]
    },
    {
      "cell_type": "code",
      "source": [
        "print(df.info())"
      ],
      "metadata": {
        "colab": {
          "base_uri": "https://localhost:8080/"
        },
        "id": "NvkxNBd5wGqR",
        "outputId": "5b7bdef1-7789-47b2-9b69-fcfea67c22a5"
      },
      "execution_count": 4,
      "outputs": [
        {
          "output_type": "stream",
          "name": "stdout",
          "text": [
            "<class 'pandas.core.frame.DataFrame'>\n",
            "RangeIndex: 2111 entries, 0 to 2110\n",
            "Data columns (total 17 columns):\n",
            " #   Column                          Non-Null Count  Dtype \n",
            "---  ------                          --------------  ----- \n",
            " 0   Age                             2097 non-null   object\n",
            " 1   Gender                          2102 non-null   object\n",
            " 2   Height                          2099 non-null   object\n",
            " 3   Weight                          2100 non-null   object\n",
            " 4   CALC                            2106 non-null   object\n",
            " 5   FAVC                            2100 non-null   object\n",
            " 6   FCVC                            2103 non-null   object\n",
            " 7   NCP                             2099 non-null   object\n",
            " 8   SCC                             2101 non-null   object\n",
            " 9   SMOKE                           2106 non-null   object\n",
            " 10  CH2O                            2105 non-null   object\n",
            " 11  family_history_with_overweight  2098 non-null   object\n",
            " 12  FAF                             2103 non-null   object\n",
            " 13  TUE                             2102 non-null   object\n",
            " 14  CAEC                            2100 non-null   object\n",
            " 15  MTRANS                          2105 non-null   object\n",
            " 16  NObeyesdad                      2111 non-null   object\n",
            "dtypes: object(17)\n",
            "memory usage: 280.5+ KB\n",
            "None\n"
          ]
        }
      ]
    },
    {
      "cell_type": "code",
      "source": [
        "missing_values = df.isnull().sum()\n",
        "print(\"Missing values per column:\")\n",
        "print(missing_values)"
      ],
      "metadata": {
        "colab": {
          "base_uri": "https://localhost:8080/"
        },
        "id": "IpVM035vwKp0",
        "outputId": "5916b980-82f4-4dbe-9cd4-4880fc1875ef"
      },
      "execution_count": 5,
      "outputs": [
        {
          "output_type": "stream",
          "name": "stdout",
          "text": [
            "Missing values per column:\n",
            "Age                               14\n",
            "Gender                             9\n",
            "Height                            12\n",
            "Weight                            11\n",
            "CALC                               5\n",
            "FAVC                              11\n",
            "FCVC                               8\n",
            "NCP                               12\n",
            "SCC                               10\n",
            "SMOKE                              5\n",
            "CH2O                               6\n",
            "family_history_with_overweight    13\n",
            "FAF                                8\n",
            "TUE                                9\n",
            "CAEC                              11\n",
            "MTRANS                             6\n",
            "NObeyesdad                         0\n",
            "dtype: int64\n"
          ]
        }
      ]
    },
    {
      "cell_type": "code",
      "source": [
        "unique_values = df.nunique()\n",
        "print(\"Unique values per column:\")\n",
        "print(unique_values)"
      ],
      "metadata": {
        "colab": {
          "base_uri": "https://localhost:8080/"
        },
        "id": "COt8ez00wOuj",
        "outputId": "638cec58-0e7e-494c-98b7-fbe9b488a201"
      },
      "execution_count": 6,
      "outputs": [
        {
          "output_type": "stream",
          "name": "stdout",
          "text": [
            "Unique values per column:\n",
            "Age                               1394\n",
            "Gender                               3\n",
            "Height                            1562\n",
            "Weight                            1518\n",
            "CALC                                 5\n",
            "FAVC                                 3\n",
            "FCVC                               808\n",
            "NCP                                637\n",
            "SCC                                  3\n",
            "SMOKE                                3\n",
            "CH2O                              1263\n",
            "family_history_with_overweight       3\n",
            "FAF                               1186\n",
            "TUE                               1130\n",
            "CAEC                                 5\n",
            "MTRANS                               6\n",
            "NObeyesdad                           7\n",
            "dtype: int64\n"
          ]
        }
      ]
    },
    {
      "cell_type": "code",
      "source": [
        "duplicate_rows = df.duplicated().sum()\n",
        "print(f\"Duplicate rows: {duplicate_rows}\")"
      ],
      "metadata": {
        "colab": {
          "base_uri": "https://localhost:8080/"
        },
        "id": "wGzp_zBqwRsg",
        "outputId": "4e8f4b69-be07-4e69-b2ee-361a6edcad87"
      },
      "execution_count": 7,
      "outputs": [
        {
          "output_type": "stream",
          "name": "stdout",
          "text": [
            "Duplicate rows: 18\n"
          ]
        }
      ]
    },
    {
      "cell_type": "code",
      "source": [],
      "metadata": {
        "id": "mctA-Tdyw1PM"
      },
      "execution_count": null,
      "outputs": []
    },
    {
      "cell_type": "code",
      "source": [
        "print(df['NObeyesdad'].value_counts())"
      ],
      "metadata": {
        "colab": {
          "base_uri": "https://localhost:8080/"
        },
        "id": "34AbKfyowUWg",
        "outputId": "b8eb10f9-e653-4a92-ea4e-ddb7bbc652c9"
      },
      "execution_count": 8,
      "outputs": [
        {
          "output_type": "stream",
          "name": "stdout",
          "text": [
            "NObeyesdad\n",
            "Obesity_Type_I         351\n",
            "Obesity_Type_III       324\n",
            "Obesity_Type_II        297\n",
            "Overweight_Level_I     290\n",
            "Overweight_Level_II    290\n",
            "Normal_Weight          287\n",
            "Insufficient_Weight    272\n",
            "Name: count, dtype: int64\n"
          ]
        }
      ]
    },
    {
      "cell_type": "code",
      "source": [
        "df['Height'] = pd.to_numeric(df['Height'], errors='coerce')\n",
        "df['Weight'] = pd.to_numeric(df['Weight'], errors='coerce')\n"
      ],
      "metadata": {
        "id": "Bnc1Sj5WxlSv"
      },
      "execution_count": 16,
      "outputs": []
    },
    {
      "cell_type": "code",
      "source": [
        "print(\"\\nVisualizing the distribution of Height and Weight:\")\n",
        "df_numeric = df[['Height', 'Weight']]\n",
        "df_numeric.hist(bins=20, figsize=(15,10))\n",
        "plt.suptitle('Distribution of Height and Weight')\n",
        "plt.show()"
      ],
      "metadata": {
        "colab": {
          "base_uri": "https://localhost:8080/",
          "height": 918
        },
        "id": "YPyTwBtSxo0N",
        "outputId": "f05c145c-0207-4a10-b7a9-c95eb845ac18"
      },
      "execution_count": 17,
      "outputs": [
        {
          "output_type": "stream",
          "name": "stdout",
          "text": [
            "\n",
            "Visualizing the distribution of Height and Weight:\n"
          ]
        },
        {
          "output_type": "display_data",
          "data": {
            "text/plain": [
              "<Figure size 1500x1000 with 2 Axes>"
            ],
            "image/png": "[encoded data removed]"
          },
          "metadata": {}
        }
      ]
    },
    {
      "cell_type": "code",
      "source": [
        "plt.figure(figsize=(12,8))\n",
        "sns.boxplot(data=df_numeric)\n",
        "plt.title('Boxplot of Numerical Features')\n",
        "plt.show()"
      ],
      "metadata": {
        "colab": {
          "base_uri": "https://localhost:8080/",
          "height": 699
        },
        "id": "PVovFRhMwaOj",
        "outputId": "4c4bfd67-0474-49d5-9390-88d768c18549"
      },
      "execution_count": 18,
      "outputs": [
        {
          "output_type": "display_data",
          "data": {
            "text/plain": [
              "<Figure size 1200x800 with 1 Axes>"
            ],
            "image/png": "[encoded data removed]"
          },
          "metadata": {}
        }
      ]
    },
    {
      "cell_type": "code",
      "source": [
        "correlation_matrix = df_numeric.corr()\n",
        "plt.figure(figsize=(12,8))\n",
        "sns.heatmap(correlation_matrix, annot=True, cmap='coolwarm', fmt='.2f')\n",
        "plt.title('Correlation Matrix of Numerical Features')\n",
        "plt.show()"
      ],
      "metadata": {
        "colab": {
          "base_uri": "https://localhost:8080/",
          "height": 699
        },
        "id": "sUZUjEALxtDT",
        "outputId": "ec580a76-dcaa-471c-bcb0-e23162535071"
      },
      "execution_count": 19,
      "outputs": [
        {
          "output_type": "display_data",
          "data": {
            "text/plain": [
              "<Figure size 1200x800 with 2 Axes>"
            ],
            "image/png": "[encoded data removed]"
          },
          "metadata": {}
        }
      ]
    },
    {
      "cell_type": "code",
      "source": [
        "df['Age'] = pd.to_numeric(df['Age'], errors='coerce')"
      ],
      "metadata": {
        "id": "OevrWi8KyEXv"
      },
      "execution_count": 22,
      "outputs": []
    },
    {
      "cell_type": "code",
      "source": [
        "# Mengisi missing values dengan median\n",
        "df['Height'] = df['Height'].fillna(df['Height'].median())\n",
        "df['Weight'] = df['Weight'].fillna(df['Weight'].median())\n",
        "df['Age'] = df['Age'].fillna(df['Age'].median())\n"
      ],
      "metadata": {
        "id": "zf4RVujQyTCB"
      },
      "execution_count": 24,
      "outputs": []
    },
    {
      "cell_type": "code",
      "source": [
        "# Mengisi missing values pada kolom kategorikal dengan modus tanpa menggunakan inplace=True\n",
        "categorical_cols = ['Gender', 'CALC', 'FAVC', 'FCVC', 'NCP', 'SCC', 'SMOKE', 'CH2O', 'family_history_with_overweight', 'FAF', 'TUE', 'CAEC', 'MTRANS']\n",
        "for col in categorical_cols:\n",
        "    df[col] = df[col].fillna(df[col].mode()[0])  # Mengisi missing values dengan modus kolom\n"
      ],
      "metadata": {
        "id": "TIZoyDSQyl6B"
      },
      "execution_count": 26,
      "outputs": []
    },
    {
      "cell_type": "code",
      "source": [
        "df.drop_duplicates(inplace=True)"
      ],
      "metadata": {
        "id": "ePb0cOKaytxX"
      },
      "execution_count": 27,
      "outputs": []
    },
    {
      "cell_type": "code",
      "source": [
        "# 3. Tangani Outliers menggunakan IQR (Interquartile Range)\n",
        "# Menghitung IQR untuk kolom numerik\n",
        "Q1 = df[['Height', 'Weight']].quantile(0.25)\n",
        "Q3 = df[['Height', 'Weight']].quantile(0.75)\n",
        "IQR = Q3 - Q1"
      ],
      "metadata": {
        "id": "pXv5kBdly1aU"
      },
      "execution_count": 28,
      "outputs": []
    },
    {
      "cell_type": "code",
      "source": [
        "df = df[~((df[['Height', 'Weight']] < (Q1 - 1.5 * IQR)) | (df[['Height', 'Weight']] > (Q3 + 1.5 * IQR))).any(axis=1)]\n"
      ],
      "metadata": {
        "id": "-Yk_-oLny4QY"
      },
      "execution_count": 29,
      "outputs": []
    },
    {
      "cell_type": "code",
      "source": [
        "# 4. Ubah Data Kategori menjadi Numerik (Label Encoding untuk kolom kategorikal)\n",
        "label_encoders = {}\n",
        "for col in categorical_cols:\n",
        "    le = LabelEncoder()\n",
        "    df[col] = le.fit_transform(df[col])\n",
        "    label_encoders[col] = le"
      ],
      "metadata": {
        "id": "mKTHP0oRy8M6"
      },
      "execution_count": 30,
      "outputs": []
    },
    {
      "cell_type": "code",
      "source": [
        "\n",
        "# Tentukan fitur numerik dan target\n",
        "features = df.drop('NObeyesdad', axis=1)  # Menghapus kolom target dari fitur\n",
        "target = df['NObeyesdad']"
      ],
      "metadata": {
        "id": "LXpyrSz3zAll"
      },
      "execution_count": 32,
      "outputs": []
    },
    {
      "cell_type": "code",
      "source": [
        "# Memeriksa distribusi kelas target\n",
        "class_counts = target.value_counts()\n",
        "print(f\"Class distribution before balancing: {class_counts}\")"
      ],
      "metadata": {
        "colab": {
          "base_uri": "https://localhost:8080/"
        },
        "id": "7NKNVuuTzFTF",
        "outputId": "cc055d13-8f59-41d4-d9db-b51114c3ab69"
      },
      "execution_count": 33,
      "outputs": [
        {
          "output_type": "stream",
          "name": "stdout",
          "text": [
            "Class distribution before balancing: NObeyesdad\n",
            "Obesity_Type_I         350\n",
            "Obesity_Type_III       319\n",
            "Obesity_Type_II        295\n",
            "Overweight_Level_II    286\n",
            "Normal_Weight          282\n",
            "Overweight_Level_I     270\n",
            "Insufficient_Weight    265\n",
            "Name: count, dtype: int64\n"
          ]
        }
      ]
    },
    {
      "cell_type": "code",
      "source": [
        "# Oversample kelas minoritas menggunakan upsampling\n",
        "df_majority = df[df['NObeyesdad'] == 0]\n",
        "df_minority = df[df['NObeyesdad'] == 1]"
      ],
      "metadata": {
        "id": "OUG16MUkzI3W"
      },
      "execution_count": 34,
      "outputs": []
    },
    {
      "cell_type": "code",
      "source": [
        "# Memeriksa distribusi kelas pada kolom 'NObeyesdad'\n",
        "class_counts = target.value_counts()\n",
        "print(f\"Class distribution before balancing: {class_counts}\")\n",
        "\n"
      ],
      "metadata": {
        "colab": {
          "base_uri": "https://localhost:8080/"
        },
        "id": "SH8dfHe8zOiq",
        "outputId": "3659534d-8e76-429c-da14-155ab48fd35f"
      },
      "execution_count": 38,
      "outputs": [
        {
          "output_type": "stream",
          "name": "stdout",
          "text": [
            "Class distribution before balancing: NObeyesdad\n",
            "Obesity_Type_I         350\n",
            "Obesity_Type_III       319\n",
            "Obesity_Type_II        295\n",
            "Overweight_Level_II    286\n",
            "Normal_Weight          282\n",
            "Overweight_Level_I     270\n",
            "Insufficient_Weight    265\n",
            "Name: count, dtype: int64\n"
          ]
        }
      ]
    },
    {
      "cell_type": "code",
      "source": [
        "# Memeriksa distribusi kelas pada kolom 'NObeyesdad'\n",
        "class_counts = df['NObeyesdad'].value_counts()\n",
        "print(f\"Class distribution before balancing: {class_counts}\")\n",
        "\n",
        "# Jika jumlah kelas mayoritas atau minoritas ternyata 0, tampilkan pesan\n",
        "if class_counts.min() == 0:\n",
        "    print(\"Error: One of the classes is missing. Please check the distribution of 'NObeyesdad'.\")\n",
        "else:\n",
        "    # Memisahkan kelas mayoritas dan minoritas berdasarkan nilai pada 'NObeyesdad'\n",
        "    df_majority = df[df['NObeyesdad'] == class_counts.idxmax()]  # Kelas mayoritas (yang paling banyak)\n",
        "    df_minority = df[df['NObeyesdad'] == class_counts.idxmin()]  # Kelas minoritas (yang paling sedikit)\n",
        "\n",
        "    # Menyeimbangkan dataset menggunakan oversampling untuk kelas minoritas\n",
        "    df_minority_upsampled = resample(df_minority,\n",
        "                                     replace=True,  # Sampling dengan penggantian\n",
        "                                     n_samples=len(df_majority),  # Menyamakan jumlah dengan kelas mayoritas\n",
        "                                     random_state=42)\n",
        "\n",
        "    # Menggabungkan kembali data mayoritas dan minoritas yang sudah di-oversample\n",
        "    df_balanced = pd.concat([df_majority, df_minority_upsampled])\n",
        "\n",
        "    # Memisahkan fitur dan target dari data yang sudah di-balance\n",
        "    features_balanced = df_balanced.drop('NObeyesdad', axis=1)\n",
        "    target_balanced = df_balanced['NObeyesdad']\n",
        "\n",
        "    # Memeriksa distribusi kelas setelah balancing\n",
        "    balanced_class_counts = target_balanced.value_counts()\n",
        "    print(f\"Class distribution after balancing: {balanced_class_counts}\")\n"
      ],
      "metadata": {
        "colab": {
          "base_uri": "https://localhost:8080/"
        },
        "id": "MFMrOvKBzp7v",
        "outputId": "4ada4f95-6dfb-4fd8-88ee-2146bc796fd3"
      },
      "execution_count": 40,
      "outputs": [
        {
          "output_type": "stream",
          "name": "stdout",
          "text": [
            "Class distribution before balancing: NObeyesdad\n",
            "Obesity_Type_I         350\n",
            "Obesity_Type_III       319\n",
            "Obesity_Type_II        295\n",
            "Overweight_Level_II    286\n",
            "Normal_Weight          282\n",
            "Overweight_Level_I     270\n",
            "Insufficient_Weight    265\n",
            "Name: count, dtype: int64\n",
            "Class distribution after balancing: NObeyesdad\n",
            "Obesity_Type_I         350\n",
            "Insufficient_Weight    350\n",
            "Name: count, dtype: int64\n"
          ]
        }
      ]
    },
    {
      "cell_type": "code",
      "source": [
        "# Normalisasi atau Standarisasi Data\n",
        "scaler = StandardScaler()\n",
        "features_scaled = scaler.fit_transform(features_balanced)"
      ],
      "metadata": {
        "id": "u22JOcZu0CcG"
      },
      "execution_count": 42,
      "outputs": []
    },
    {
      "cell_type": "code",
      "source": [
        "print(\"\\nFirst few rows of scaled features:\")\n",
        "print(features_scaled[:5])"
      ],
      "metadata": {
        "colab": {
          "base_uri": "https://localhost:8080/"
        },
        "id": "jEm23Rnh0F4K",
        "outputId": "93b2c1d1-8d72-4ea2-a696-e082f55fe5d5"
      },
      "execution_count": 43,
      "outputs": [
        {
          "output_type": "stream",
          "name": "stdout",
          "text": [
            "\n",
            "First few rows of scaled features:\n",
            "[[ 0.35570089  1.08147804  1.60554167  1.45467738 -0.66895775  0.31851103\n",
            "   1.35542927  0.46069094 -0.22976935 -0.0239114   1.6403188   0.60160077\n",
            "   1.08274648  1.40875936 -1.56055885  0.56868961]\n",
            " [ 2.23036506  1.08147804  1.09431001  1.19372132 -2.36558971  0.31851103\n",
            "  -0.88354577  0.46069094 -0.22976935 -0.0239114  -0.12695575 -1.6384021\n",
            "   1.08274648  0.72599594  0.5361613  -1.71476772]\n",
            " [ 0.73063373 -0.8646264  -1.66634093  0.28037512  1.02767422  0.31851103\n",
            "  -0.88354577 -1.98498048 -0.22976935 -0.0239114  -0.12695575 -1.6384021\n",
            "  -1.44537622 -1.24536322  0.5361613  -1.71476772]\n",
            " [ 3.60511878 -0.8646264  -0.03039963  0.6718092   1.02767422  0.31851103\n",
            "   1.35542927 -1.98498048 -0.22976935  8.34508034 -0.12695575  0.60160077\n",
            "  -1.44537622 -1.24536322  0.5361613  -1.71476772]\n",
            " [ 8.0758532  -0.8646264  -0.95061661  0.45434582 -0.66895775  0.31851103\n",
            "  -1.46917879 -1.98498048 -0.22976935 -0.0239114  -0.12695575  0.60160077\n",
            "  -1.44537622  1.40875936  0.5361613   0.56868961]]\n"
          ]
        }
      ]
    }
  ]
}